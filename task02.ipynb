{
 "cells": [
  {
   "cell_type": "code",
   "execution_count": 1,
   "id": "cc3ab898",
   "metadata": {
    "_cell_guid": "b1076dfc-b9ad-4769-8c92-a6c4dae69d19",
    "_uuid": "8f2839f25d086af736a60e9eeb907d3b93b6e0e5",
    "execution": {
     "iopub.execute_input": "2022-09-20T07:19:15.065226Z",
     "iopub.status.busy": "2022-09-20T07:19:15.064845Z",
     "iopub.status.idle": "2022-09-20T07:19:16.306794Z",
     "shell.execute_reply": "2022-09-20T07:19:16.305147Z"
    },
    "papermill": {
     "duration": 1.253824,
     "end_time": "2022-09-20T07:19:16.311032",
     "exception": false,
     "start_time": "2022-09-20T07:19:15.057208",
     "status": "completed"
    },
    "tags": []
   },
   "outputs": [
    {
     "name": "stdout",
     "output_type": "stream",
     "text": [
      "/kaggle/input/eestech-challenge-2-local-round-xanthi/validation_set.csv\n",
      "/kaggle/input/eestech-challenge-2-local-round-xanthi/training_set.csv\n"
     ]
    }
   ],
   "source": [
    "# This Python 3 environment comes with many helpful analytics libraries installed\n",
    "# It is defined by the kaggle/python Docker image: https://github.com/kaggle/docker-python\n",
    "# For example, here's several helpful packages to load\n",
    "\n",
    "import numpy as np # linear algebra\n",
    "import pandas as pd # data processing, CSV file I/O (e.g. pd.read_csv)\n",
    "\n",
    "\n",
    "import seaborn as sns\n",
    "import matplotlib.pyplot as plt\n",
    "\n",
    "# Input data files are available in the read-only \"../input/\" directory\n",
    "# For example, running this (by clicking run or pressing Shift+Enter) will list all files under the input directory\n",
    "\n",
    "import os\n",
    "for dirname, _, filenames in os.walk('/kaggle/input'):\n",
    "    for filename in filenames:\n",
    "        print(os.path.join(dirname, filename))\n",
    "\n",
    "# You can write up to 20GB to the current directory (/kaggle/working/) that gets preserved as output when you create a version using \"Save & Run All\" \n",
    "# You can also write temporary files to /kaggle/temp/, but they won't be saved outside of the current session"
   ]
  },
  {
   "cell_type": "code",
   "execution_count": 2,
   "id": "7a4a5e55",
   "metadata": {
    "execution": {
     "iopub.execute_input": "2022-09-20T07:19:16.325746Z",
     "iopub.status.busy": "2022-09-20T07:19:16.325386Z",
     "iopub.status.idle": "2022-09-20T07:19:16.737888Z",
     "shell.execute_reply": "2022-09-20T07:19:16.736738Z"
    },
    "papermill": {
     "duration": 0.423064,
     "end_time": "2022-09-20T07:19:16.740565",
     "exception": false,
     "start_time": "2022-09-20T07:19:16.317501",
     "status": "completed"
    },
    "tags": []
   },
   "outputs": [
    {
     "data": {
      "text/html": [
       "<div>\n",
       "<style scoped>\n",
       "    .dataframe tbody tr th:only-of-type {\n",
       "        vertical-align: middle;\n",
       "    }\n",
       "\n",
       "    .dataframe tbody tr th {\n",
       "        vertical-align: top;\n",
       "    }\n",
       "\n",
       "    .dataframe thead th {\n",
       "        text-align: right;\n",
       "    }\n",
       "</style>\n",
       "<table border=\"1\" class=\"dataframe\">\n",
       "  <thead>\n",
       "    <tr style=\"text-align: right;\">\n",
       "      <th></th>\n",
       "      <th>AGE</th>\n",
       "      <th>WORKER-CLASS</th>\n",
       "      <th>EDUCATION</th>\n",
       "      <th>MARITAL-STATUS</th>\n",
       "      <th>OCCUPATION</th>\n",
       "      <th>PLACE-OF-BIRTH</th>\n",
       "      <th>RELATIONSHIP</th>\n",
       "      <th>WORK-HOURS</th>\n",
       "      <th>SEX</th>\n",
       "      <th>RACE</th>\n",
       "      <th>INCOME</th>\n",
       "    </tr>\n",
       "  </thead>\n",
       "  <tbody>\n",
       "    <tr>\n",
       "      <th>0</th>\n",
       "      <td>65</td>\n",
       "      <td>NaN</td>\n",
       "      <td>15.0</td>\n",
       "      <td>1</td>\n",
       "      <td>NaN</td>\n",
       "      <td>6</td>\n",
       "      <td>1</td>\n",
       "      <td>NaN</td>\n",
       "      <td>2</td>\n",
       "      <td>1</td>\n",
       "      <td>7800.0</td>\n",
       "    </tr>\n",
       "    <tr>\n",
       "      <th>1</th>\n",
       "      <td>80</td>\n",
       "      <td>NaN</td>\n",
       "      <td>22.0</td>\n",
       "      <td>5</td>\n",
       "      <td>NaN</td>\n",
       "      <td>6</td>\n",
       "      <td>0</td>\n",
       "      <td>NaN</td>\n",
       "      <td>2</td>\n",
       "      <td>1</td>\n",
       "      <td>61300.0</td>\n",
       "    </tr>\n",
       "    <tr>\n",
       "      <th>2</th>\n",
       "      <td>72</td>\n",
       "      <td>NaN</td>\n",
       "      <td>21.0</td>\n",
       "      <td>3</td>\n",
       "      <td>NaN</td>\n",
       "      <td>233</td>\n",
       "      <td>6</td>\n",
       "      <td>NaN</td>\n",
       "      <td>1</td>\n",
       "      <td>6</td>\n",
       "      <td>10800.0</td>\n",
       "    </tr>\n",
       "    <tr>\n",
       "      <th>3</th>\n",
       "      <td>47</td>\n",
       "      <td>1.0</td>\n",
       "      <td>21.0</td>\n",
       "      <td>1</td>\n",
       "      <td>10.0</td>\n",
       "      <td>36</td>\n",
       "      <td>1</td>\n",
       "      <td>60.0</td>\n",
       "      <td>1</td>\n",
       "      <td>1</td>\n",
       "      <td>493000.0</td>\n",
       "    </tr>\n",
       "    <tr>\n",
       "      <th>4</th>\n",
       "      <td>25</td>\n",
       "      <td>NaN</td>\n",
       "      <td>16.0</td>\n",
       "      <td>1</td>\n",
       "      <td>NaN</td>\n",
       "      <td>6</td>\n",
       "      <td>10</td>\n",
       "      <td>NaN</td>\n",
       "      <td>2</td>\n",
       "      <td>8</td>\n",
       "      <td>0.0</td>\n",
       "    </tr>\n",
       "  </tbody>\n",
       "</table>\n",
       "</div>"
      ],
      "text/plain": [
       "   AGE  WORKER-CLASS  EDUCATION  MARITAL-STATUS  OCCUPATION  PLACE-OF-BIRTH  \\\n",
       "0   65           NaN       15.0               1         NaN               6   \n",
       "1   80           NaN       22.0               5         NaN               6   \n",
       "2   72           NaN       21.0               3         NaN             233   \n",
       "3   47           1.0       21.0               1        10.0              36   \n",
       "4   25           NaN       16.0               1         NaN               6   \n",
       "\n",
       "   RELATIONSHIP  WORK-HOURS  SEX  RACE    INCOME  \n",
       "0             1         NaN    2     1    7800.0  \n",
       "1             0         NaN    2     1   61300.0  \n",
       "2             6         NaN    1     6   10800.0  \n",
       "3             1        60.0    1     1  493000.0  \n",
       "4            10         NaN    2     8       0.0  "
      ]
     },
     "execution_count": 2,
     "metadata": {},
     "output_type": "execute_result"
    }
   ],
   "source": [
    "data = pd.read_csv('../input/eestech-challenge-2-local-round-xanthi/training_set.csv')\n",
    "data.head()"
   ]
  },
  {
   "cell_type": "code",
   "execution_count": 3,
   "id": "d5b7da27",
   "metadata": {
    "execution": {
     "iopub.execute_input": "2022-09-20T07:19:16.752045Z",
     "iopub.status.busy": "2022-09-20T07:19:16.751676Z",
     "iopub.status.idle": "2022-09-20T07:19:16.767242Z",
     "shell.execute_reply": "2022-09-20T07:19:16.765952Z"
    },
    "papermill": {
     "duration": 0.0241,
     "end_time": "2022-09-20T07:19:16.769808",
     "exception": false,
     "start_time": "2022-09-20T07:19:16.745708",
     "status": "completed"
    },
    "tags": []
   },
   "outputs": [
    {
     "data": {
      "text/html": [
       "<div>\n",
       "<style scoped>\n",
       "    .dataframe tbody tr th:only-of-type {\n",
       "        vertical-align: middle;\n",
       "    }\n",
       "\n",
       "    .dataframe tbody tr th {\n",
       "        vertical-align: top;\n",
       "    }\n",
       "\n",
       "    .dataframe thead th {\n",
       "        text-align: right;\n",
       "    }\n",
       "</style>\n",
       "<table border=\"1\" class=\"dataframe\">\n",
       "  <thead>\n",
       "    <tr style=\"text-align: right;\">\n",
       "      <th></th>\n",
       "      <th>AGE</th>\n",
       "      <th>WORKER-CLASS</th>\n",
       "      <th>EDUCATION</th>\n",
       "      <th>MARITAL-STATUS</th>\n",
       "      <th>OCCUPATION</th>\n",
       "      <th>PLACE-OF-BIRTH</th>\n",
       "      <th>RELATIONSHIP</th>\n",
       "      <th>WORK-HOURS</th>\n",
       "      <th>SEX</th>\n",
       "      <th>RACE</th>\n",
       "      <th>INCOME</th>\n",
       "    </tr>\n",
       "  </thead>\n",
       "  <tbody>\n",
       "    <tr>\n",
       "      <th>0</th>\n",
       "      <td>65</td>\n",
       "      <td>NaN</td>\n",
       "      <td>15.0</td>\n",
       "      <td>1</td>\n",
       "      <td>NaN</td>\n",
       "      <td>6</td>\n",
       "      <td>1</td>\n",
       "      <td>NaN</td>\n",
       "      <td>2</td>\n",
       "      <td>1</td>\n",
       "      <td>7800.0</td>\n",
       "    </tr>\n",
       "    <tr>\n",
       "      <th>1</th>\n",
       "      <td>80</td>\n",
       "      <td>NaN</td>\n",
       "      <td>22.0</td>\n",
       "      <td>5</td>\n",
       "      <td>NaN</td>\n",
       "      <td>6</td>\n",
       "      <td>0</td>\n",
       "      <td>NaN</td>\n",
       "      <td>2</td>\n",
       "      <td>1</td>\n",
       "      <td>61300.0</td>\n",
       "    </tr>\n",
       "    <tr>\n",
       "      <th>2</th>\n",
       "      <td>72</td>\n",
       "      <td>NaN</td>\n",
       "      <td>21.0</td>\n",
       "      <td>3</td>\n",
       "      <td>NaN</td>\n",
       "      <td>233</td>\n",
       "      <td>6</td>\n",
       "      <td>NaN</td>\n",
       "      <td>1</td>\n",
       "      <td>6</td>\n",
       "      <td>10800.0</td>\n",
       "    </tr>\n",
       "    <tr>\n",
       "      <th>3</th>\n",
       "      <td>47</td>\n",
       "      <td>1.0</td>\n",
       "      <td>21.0</td>\n",
       "      <td>1</td>\n",
       "      <td>10.0</td>\n",
       "      <td>36</td>\n",
       "      <td>1</td>\n",
       "      <td>60.0</td>\n",
       "      <td>1</td>\n",
       "      <td>1</td>\n",
       "      <td>493000.0</td>\n",
       "    </tr>\n",
       "    <tr>\n",
       "      <th>4</th>\n",
       "      <td>25</td>\n",
       "      <td>NaN</td>\n",
       "      <td>16.0</td>\n",
       "      <td>1</td>\n",
       "      <td>NaN</td>\n",
       "      <td>6</td>\n",
       "      <td>10</td>\n",
       "      <td>NaN</td>\n",
       "      <td>2</td>\n",
       "      <td>8</td>\n",
       "      <td>0.0</td>\n",
       "    </tr>\n",
       "  </tbody>\n",
       "</table>\n",
       "</div>"
      ],
      "text/plain": [
       "   AGE  WORKER-CLASS  EDUCATION  MARITAL-STATUS  OCCUPATION  PLACE-OF-BIRTH  \\\n",
       "0   65           NaN       15.0               1         NaN               6   \n",
       "1   80           NaN       22.0               5         NaN               6   \n",
       "2   72           NaN       21.0               3         NaN             233   \n",
       "3   47           1.0       21.0               1        10.0              36   \n",
       "4   25           NaN       16.0               1         NaN               6   \n",
       "\n",
       "   RELATIONSHIP  WORK-HOURS  SEX  RACE    INCOME  \n",
       "0             1         NaN    2     1    7800.0  \n",
       "1             0         NaN    2     1   61300.0  \n",
       "2             6         NaN    1     6   10800.0  \n",
       "3             1        60.0    1     1  493000.0  \n",
       "4            10         NaN    2     8       0.0  "
      ]
     },
     "execution_count": 3,
     "metadata": {},
     "output_type": "execute_result"
    }
   ],
   "source": [
    "data.head()"
   ]
  },
  {
   "cell_type": "code",
   "execution_count": 4,
   "id": "d185b893",
   "metadata": {
    "execution": {
     "iopub.execute_input": "2022-09-20T07:19:16.782424Z",
     "iopub.status.busy": "2022-09-20T07:19:16.782111Z",
     "iopub.status.idle": "2022-09-20T07:19:16.787727Z",
     "shell.execute_reply": "2022-09-20T07:19:16.786773Z"
    },
    "papermill": {
     "duration": 0.014284,
     "end_time": "2022-09-20T07:19:16.789723",
     "exception": false,
     "start_time": "2022-09-20T07:19:16.775439",
     "status": "completed"
    },
    "tags": []
   },
   "outputs": [
    {
     "data": {
      "text/plain": [
       "(297733, 11)"
      ]
     },
     "execution_count": 4,
     "metadata": {},
     "output_type": "execute_result"
    }
   ],
   "source": [
    "data.shape"
   ]
  },
  {
   "cell_type": "code",
   "execution_count": 5,
   "id": "74b78fc3",
   "metadata": {
    "execution": {
     "iopub.execute_input": "2022-09-20T07:19:16.803129Z",
     "iopub.status.busy": "2022-09-20T07:19:16.802054Z",
     "iopub.status.idle": "2022-09-20T07:19:16.814342Z",
     "shell.execute_reply": "2022-09-20T07:19:16.813164Z"
    },
    "papermill": {
     "duration": 0.021315,
     "end_time": "2022-09-20T07:19:16.816730",
     "exception": false,
     "start_time": "2022-09-20T07:19:16.795415",
     "status": "completed"
    },
    "tags": []
   },
   "outputs": [
    {
     "data": {
      "text/plain": [
       "AGE                    0\n",
       "WORKER-CLASS       79206\n",
       "EDUCATION              0\n",
       "MARITAL-STATUS         0\n",
       "OCCUPATION         79206\n",
       "PLACE-OF-BIRTH         0\n",
       "RELATIONSHIP           0\n",
       "WORK-HOURS        105695\n",
       "SEX                    0\n",
       "RACE                   0\n",
       "INCOME                 0\n",
       "dtype: int64"
      ]
     },
     "execution_count": 5,
     "metadata": {},
     "output_type": "execute_result"
    }
   ],
   "source": [
    "data.isnull().sum()"
   ]
  },
  {
   "cell_type": "code",
   "execution_count": 6,
   "id": "0079a38e",
   "metadata": {
    "execution": {
     "iopub.execute_input": "2022-09-20T07:19:16.830081Z",
     "iopub.status.busy": "2022-09-20T07:19:16.829765Z",
     "iopub.status.idle": "2022-09-20T07:19:16.842818Z",
     "shell.execute_reply": "2022-09-20T07:19:16.841390Z"
    },
    "papermill": {
     "duration": 0.022313,
     "end_time": "2022-09-20T07:19:16.845027",
     "exception": false,
     "start_time": "2022-09-20T07:19:16.822714",
     "status": "completed"
    },
    "tags": []
   },
   "outputs": [
    {
     "data": {
      "text/plain": [
       "WORK-HOURS      105695\n",
       "WORKER-CLASS     79206\n",
       "OCCUPATION       79206\n",
       "dtype: int64"
      ]
     },
     "execution_count": 6,
     "metadata": {},
     "output_type": "execute_result"
    }
   ],
   "source": [
    "mis_val = data.isnull().sum()\n",
    "mis_val = mis_val[mis_val > 0]\n",
    "mis_val.sort_values(ascending=False)"
   ]
  },
  {
   "cell_type": "code",
   "execution_count": 7,
   "id": "f81680cb",
   "metadata": {
    "execution": {
     "iopub.execute_input": "2022-09-20T07:19:16.858965Z",
     "iopub.status.busy": "2022-09-20T07:19:16.857523Z",
     "iopub.status.idle": "2022-09-20T07:19:16.884778Z",
     "shell.execute_reply": "2022-09-20T07:19:16.883070Z"
    },
    "papermill": {
     "duration": 0.036639,
     "end_time": "2022-09-20T07:19:16.887221",
     "exception": false,
     "start_time": "2022-09-20T07:19:16.850582",
     "status": "completed"
    },
    "tags": []
   },
   "outputs": [],
   "source": [
    "#replace other NaNs with mean\n",
    "data.fillna(data.mean(), inplace=True)"
   ]
  },
  {
   "cell_type": "code",
   "execution_count": 8,
   "id": "fe236de3",
   "metadata": {
    "execution": {
     "iopub.execute_input": "2022-09-20T07:19:16.901248Z",
     "iopub.status.busy": "2022-09-20T07:19:16.900857Z",
     "iopub.status.idle": "2022-09-20T07:19:16.936155Z",
     "shell.execute_reply": "2022-09-20T07:19:16.934819Z"
    },
    "papermill": {
     "duration": 0.045721,
     "end_time": "2022-09-20T07:19:16.938864",
     "exception": false,
     "start_time": "2022-09-20T07:19:16.893143",
     "status": "completed"
    },
    "tags": []
   },
   "outputs": [],
   "source": [
    "data.dropna(inplace=True)"
   ]
  },
  {
   "cell_type": "code",
   "execution_count": 9,
   "id": "3f6a9145",
   "metadata": {
    "execution": {
     "iopub.execute_input": "2022-09-20T07:19:16.952048Z",
     "iopub.status.busy": "2022-09-20T07:19:16.951670Z",
     "iopub.status.idle": "2022-09-20T07:19:16.964566Z",
     "shell.execute_reply": "2022-09-20T07:19:16.963426Z"
    },
    "papermill": {
     "duration": 0.022171,
     "end_time": "2022-09-20T07:19:16.966830",
     "exception": false,
     "start_time": "2022-09-20T07:19:16.944659",
     "status": "completed"
    },
    "tags": []
   },
   "outputs": [
    {
     "data": {
      "text/plain": [
       "AGE               0\n",
       "WORKER-CLASS      0\n",
       "EDUCATION         0\n",
       "MARITAL-STATUS    0\n",
       "OCCUPATION        0\n",
       "PLACE-OF-BIRTH    0\n",
       "RELATIONSHIP      0\n",
       "WORK-HOURS        0\n",
       "SEX               0\n",
       "RACE              0\n",
       "INCOME            0\n",
       "dtype: int64"
      ]
     },
     "execution_count": 9,
     "metadata": {},
     "output_type": "execute_result"
    }
   ],
   "source": [
    "data.isnull().sum()"
   ]
  },
  {
   "cell_type": "code",
   "execution_count": 10,
   "id": "49d16857",
   "metadata": {
    "execution": {
     "iopub.execute_input": "2022-09-20T07:19:16.979965Z",
     "iopub.status.busy": "2022-09-20T07:19:16.979605Z",
     "iopub.status.idle": "2022-09-20T07:19:16.995293Z",
     "shell.execute_reply": "2022-09-20T07:19:16.993474Z"
    },
    "papermill": {
     "duration": 0.025462,
     "end_time": "2022-09-20T07:19:16.998111",
     "exception": false,
     "start_time": "2022-09-20T07:19:16.972649",
     "status": "completed"
    },
    "tags": []
   },
   "outputs": [
    {
     "data": {
      "text/html": [
       "<div>\n",
       "<style scoped>\n",
       "    .dataframe tbody tr th:only-of-type {\n",
       "        vertical-align: middle;\n",
       "    }\n",
       "\n",
       "    .dataframe tbody tr th {\n",
       "        vertical-align: top;\n",
       "    }\n",
       "\n",
       "    .dataframe thead th {\n",
       "        text-align: right;\n",
       "    }\n",
       "</style>\n",
       "<table border=\"1\" class=\"dataframe\">\n",
       "  <thead>\n",
       "    <tr style=\"text-align: right;\">\n",
       "      <th></th>\n",
       "      <th>AGE</th>\n",
       "      <th>WORKER-CLASS</th>\n",
       "      <th>EDUCATION</th>\n",
       "      <th>MARITAL-STATUS</th>\n",
       "      <th>OCCUPATION</th>\n",
       "      <th>PLACE-OF-BIRTH</th>\n",
       "      <th>RELATIONSHIP</th>\n",
       "      <th>WORK-HOURS</th>\n",
       "      <th>SEX</th>\n",
       "      <th>RACE</th>\n",
       "      <th>INCOME</th>\n",
       "    </tr>\n",
       "  </thead>\n",
       "  <tbody>\n",
       "    <tr>\n",
       "      <th>0</th>\n",
       "      <td>65</td>\n",
       "      <td>2.219831</td>\n",
       "      <td>15.0</td>\n",
       "      <td>1</td>\n",
       "      <td>4097.515923</td>\n",
       "      <td>6</td>\n",
       "      <td>1</td>\n",
       "      <td>37.938996</td>\n",
       "      <td>2</td>\n",
       "      <td>1</td>\n",
       "      <td>7800.0</td>\n",
       "    </tr>\n",
       "    <tr>\n",
       "      <th>1</th>\n",
       "      <td>80</td>\n",
       "      <td>2.219831</td>\n",
       "      <td>22.0</td>\n",
       "      <td>5</td>\n",
       "      <td>4097.515923</td>\n",
       "      <td>6</td>\n",
       "      <td>0</td>\n",
       "      <td>37.938996</td>\n",
       "      <td>2</td>\n",
       "      <td>1</td>\n",
       "      <td>61300.0</td>\n",
       "    </tr>\n",
       "    <tr>\n",
       "      <th>2</th>\n",
       "      <td>72</td>\n",
       "      <td>2.219831</td>\n",
       "      <td>21.0</td>\n",
       "      <td>3</td>\n",
       "      <td>4097.515923</td>\n",
       "      <td>233</td>\n",
       "      <td>6</td>\n",
       "      <td>37.938996</td>\n",
       "      <td>1</td>\n",
       "      <td>6</td>\n",
       "      <td>10800.0</td>\n",
       "    </tr>\n",
       "    <tr>\n",
       "      <th>3</th>\n",
       "      <td>47</td>\n",
       "      <td>1.000000</td>\n",
       "      <td>21.0</td>\n",
       "      <td>1</td>\n",
       "      <td>10.000000</td>\n",
       "      <td>36</td>\n",
       "      <td>1</td>\n",
       "      <td>60.000000</td>\n",
       "      <td>1</td>\n",
       "      <td>1</td>\n",
       "      <td>493000.0</td>\n",
       "    </tr>\n",
       "    <tr>\n",
       "      <th>4</th>\n",
       "      <td>25</td>\n",
       "      <td>2.219831</td>\n",
       "      <td>16.0</td>\n",
       "      <td>1</td>\n",
       "      <td>4097.515923</td>\n",
       "      <td>6</td>\n",
       "      <td>10</td>\n",
       "      <td>37.938996</td>\n",
       "      <td>2</td>\n",
       "      <td>8</td>\n",
       "      <td>0.0</td>\n",
       "    </tr>\n",
       "  </tbody>\n",
       "</table>\n",
       "</div>"
      ],
      "text/plain": [
       "   AGE  WORKER-CLASS  EDUCATION  MARITAL-STATUS   OCCUPATION  PLACE-OF-BIRTH  \\\n",
       "0   65      2.219831       15.0               1  4097.515923               6   \n",
       "1   80      2.219831       22.0               5  4097.515923               6   \n",
       "2   72      2.219831       21.0               3  4097.515923             233   \n",
       "3   47      1.000000       21.0               1    10.000000              36   \n",
       "4   25      2.219831       16.0               1  4097.515923               6   \n",
       "\n",
       "   RELATIONSHIP  WORK-HOURS  SEX  RACE    INCOME  \n",
       "0             1   37.938996    2     1    7800.0  \n",
       "1             0   37.938996    2     1   61300.0  \n",
       "2             6   37.938996    1     6   10800.0  \n",
       "3             1   60.000000    1     1  493000.0  \n",
       "4            10   37.938996    2     8       0.0  "
      ]
     },
     "execution_count": 10,
     "metadata": {},
     "output_type": "execute_result"
    }
   ],
   "source": [
    "data.head()"
   ]
  },
  {
   "cell_type": "code",
   "execution_count": 11,
   "id": "d7b2becc",
   "metadata": {
    "execution": {
     "iopub.execute_input": "2022-09-20T07:19:17.012295Z",
     "iopub.status.busy": "2022-09-20T07:19:17.011779Z",
     "iopub.status.idle": "2022-09-20T07:19:17.016441Z",
     "shell.execute_reply": "2022-09-20T07:19:17.015816Z"
    },
    "papermill": {
     "duration": 0.014245,
     "end_time": "2022-09-20T07:19:17.018319",
     "exception": false,
     "start_time": "2022-09-20T07:19:17.004074",
     "status": "completed"
    },
    "tags": []
   },
   "outputs": [
    {
     "data": {
      "text/plain": [
       "(297733, 11)"
      ]
     },
     "execution_count": 11,
     "metadata": {},
     "output_type": "execute_result"
    }
   ],
   "source": [
    "data.shape"
   ]
  },
  {
   "cell_type": "code",
   "execution_count": 12,
   "id": "044292dc",
   "metadata": {
    "execution": {
     "iopub.execute_input": "2022-09-20T07:19:17.033467Z",
     "iopub.status.busy": "2022-09-20T07:19:17.032937Z",
     "iopub.status.idle": "2022-09-20T07:19:17.894034Z",
     "shell.execute_reply": "2022-09-20T07:19:17.893050Z"
    },
    "papermill": {
     "duration": 0.870705,
     "end_time": "2022-09-20T07:19:17.896377",
     "exception": false,
     "start_time": "2022-09-20T07:19:17.025672",
     "status": "completed"
    },
    "tags": []
   },
   "outputs": [
    {
     "data": {
      "text/plain": [
       "<AxesSubplot:>"
      ]
     },
     "execution_count": 12,
     "metadata": {},
     "output_type": "execute_result"
    },
    {
     "data": {
      "image/png": "[encoded data removed]",
      "text/plain": [
       "<Figure size 1800x1080 with 2 Axes>"
      ]
     },
     "metadata": {
      "needs_background": "light"
     },
     "output_type": "display_data"
    }
   ],
   "source": [
    "corr_matrix = data.corr()\n",
    "plt.subplots(figsize=(25,15))\n",
    "sns.heatmap(corr_matrix, vmax=0.9, annot=True, cmap=\"Greens\")"
   ]
  },
  {
   "cell_type": "code",
   "execution_count": 13,
   "id": "8b6eb06d",
   "metadata": {
    "execution": {
     "iopub.execute_input": "2022-09-20T07:19:17.915501Z",
     "iopub.status.busy": "2022-09-20T07:19:17.914916Z",
     "iopub.status.idle": "2022-09-20T07:19:18.305135Z",
     "shell.execute_reply": "2022-09-20T07:19:18.303627Z"
    },
    "papermill": {
     "duration": 0.404148,
     "end_time": "2022-09-20T07:19:18.307884",
     "exception": false,
     "start_time": "2022-09-20T07:19:17.903736",
     "status": "completed"
    },
    "tags": []
   },
   "outputs": [
    {
     "data": {
      "image/png": "[encoded data removed]",
      "text/plain": [
       "<Figure size 1440x720 with 2 Axes>"
      ]
     },
     "metadata": {
      "needs_background": "light"
     },
     "output_type": "display_data"
    }
   ],
   "source": [
    "corr_matrix = data.corr()\n",
    "top_corr_features = corr_matrix.index[abs(corr_matrix[\"INCOME\"])>0.2]\n",
    "plt.figure(figsize=(20,10))\n",
    "\n",
    "g = sns.heatmap(data[top_corr_features].corr(),\n",
    "                annot=True,\n",
    "                cmap=\"Blues\")"
   ]
  },
  {
   "cell_type": "code",
   "execution_count": 14,
   "id": "c7abeddd",
   "metadata": {
    "execution": {
     "iopub.execute_input": "2022-09-20T07:19:18.325481Z",
     "iopub.status.busy": "2022-09-20T07:19:18.325152Z",
     "iopub.status.idle": "2022-09-20T07:19:18.334954Z",
     "shell.execute_reply": "2022-09-20T07:19:18.332964Z"
    },
    "papermill": {
     "duration": 0.02139,
     "end_time": "2022-09-20T07:19:18.337519",
     "exception": false,
     "start_time": "2022-09-20T07:19:18.316129",
     "status": "completed"
    },
    "tags": []
   },
   "outputs": [],
   "source": [
    "#data.drop(['AGE', 'WORKER-CLASS', 'MARITAL-STATUS', 'PLACE-OF-BIRTH', 'RELATIONSHIP', 'SEX', 'RACE'], axis = 1, inplace = True)\n",
    "\n",
    "data.drop(['WORKER-CLASS', 'PLACE-OF-BIRTH', 'RELATIONSHIP', 'SEX', 'RACE'], axis = 1, inplace = True)"
   ]
  },
  {
   "cell_type": "code",
   "execution_count": 15,
   "id": "decbe288",
   "metadata": {
    "execution": {
     "iopub.execute_input": "2022-09-20T07:19:18.355236Z",
     "iopub.status.busy": "2022-09-20T07:19:18.354904Z",
     "iopub.status.idle": "2022-09-20T07:19:18.362145Z",
     "shell.execute_reply": "2022-09-20T07:19:18.360734Z"
    },
    "papermill": {
     "duration": 0.018723,
     "end_time": "2022-09-20T07:19:18.364566",
     "exception": false,
     "start_time": "2022-09-20T07:19:18.345843",
     "status": "completed"
    },
    "tags": []
   },
   "outputs": [
    {
     "data": {
      "text/plain": [
       "(297733, 6)"
      ]
     },
     "execution_count": 15,
     "metadata": {},
     "output_type": "execute_result"
    }
   ],
   "source": [
    "data.shape"
   ]
  },
  {
   "cell_type": "code",
   "execution_count": 16,
   "id": "1ecf734b",
   "metadata": {
    "execution": {
     "iopub.execute_input": "2022-09-20T07:19:18.381732Z",
     "iopub.status.busy": "2022-09-20T07:19:18.381277Z",
     "iopub.status.idle": "2022-09-20T07:19:18.392330Z",
     "shell.execute_reply": "2022-09-20T07:19:18.391614Z"
    },
    "papermill": {
     "duration": 0.022158,
     "end_time": "2022-09-20T07:19:18.394403",
     "exception": false,
     "start_time": "2022-09-20T07:19:18.372245",
     "status": "completed"
    },
    "tags": []
   },
   "outputs": [
    {
     "data": {
      "text/html": [
       "<div>\n",
       "<style scoped>\n",
       "    .dataframe tbody tr th:only-of-type {\n",
       "        vertical-align: middle;\n",
       "    }\n",
       "\n",
       "    .dataframe tbody tr th {\n",
       "        vertical-align: top;\n",
       "    }\n",
       "\n",
       "    .dataframe thead th {\n",
       "        text-align: right;\n",
       "    }\n",
       "</style>\n",
       "<table border=\"1\" class=\"dataframe\">\n",
       "  <thead>\n",
       "    <tr style=\"text-align: right;\">\n",
       "      <th></th>\n",
       "      <th>AGE</th>\n",
       "      <th>EDUCATION</th>\n",
       "      <th>MARITAL-STATUS</th>\n",
       "      <th>OCCUPATION</th>\n",
       "      <th>WORK-HOURS</th>\n",
       "      <th>INCOME</th>\n",
       "    </tr>\n",
       "  </thead>\n",
       "  <tbody>\n",
       "    <tr>\n",
       "      <th>0</th>\n",
       "      <td>65</td>\n",
       "      <td>15.0</td>\n",
       "      <td>1</td>\n",
       "      <td>4097.515923</td>\n",
       "      <td>37.938996</td>\n",
       "      <td>7800.0</td>\n",
       "    </tr>\n",
       "    <tr>\n",
       "      <th>1</th>\n",
       "      <td>80</td>\n",
       "      <td>22.0</td>\n",
       "      <td>5</td>\n",
       "      <td>4097.515923</td>\n",
       "      <td>37.938996</td>\n",
       "      <td>61300.0</td>\n",
       "    </tr>\n",
       "    <tr>\n",
       "      <th>2</th>\n",
       "      <td>72</td>\n",
       "      <td>21.0</td>\n",
       "      <td>3</td>\n",
       "      <td>4097.515923</td>\n",
       "      <td>37.938996</td>\n",
       "      <td>10800.0</td>\n",
       "    </tr>\n",
       "    <tr>\n",
       "      <th>3</th>\n",
       "      <td>47</td>\n",
       "      <td>21.0</td>\n",
       "      <td>1</td>\n",
       "      <td>10.000000</td>\n",
       "      <td>60.000000</td>\n",
       "      <td>493000.0</td>\n",
       "    </tr>\n",
       "    <tr>\n",
       "      <th>4</th>\n",
       "      <td>25</td>\n",
       "      <td>16.0</td>\n",
       "      <td>1</td>\n",
       "      <td>4097.515923</td>\n",
       "      <td>37.938996</td>\n",
       "      <td>0.0</td>\n",
       "    </tr>\n",
       "  </tbody>\n",
       "</table>\n",
       "</div>"
      ],
      "text/plain": [
       "   AGE  EDUCATION  MARITAL-STATUS   OCCUPATION  WORK-HOURS    INCOME\n",
       "0   65       15.0               1  4097.515923   37.938996    7800.0\n",
       "1   80       22.0               5  4097.515923   37.938996   61300.0\n",
       "2   72       21.0               3  4097.515923   37.938996   10800.0\n",
       "3   47       21.0               1    10.000000   60.000000  493000.0\n",
       "4   25       16.0               1  4097.515923   37.938996       0.0"
      ]
     },
     "execution_count": 16,
     "metadata": {},
     "output_type": "execute_result"
    }
   ],
   "source": [
    "data.head()"
   ]
  },
  {
   "cell_type": "code",
   "execution_count": 17,
   "id": "9f6a3f90",
   "metadata": {
    "execution": {
     "iopub.execute_input": "2022-09-20T07:19:18.412881Z",
     "iopub.status.busy": "2022-09-20T07:19:18.412349Z",
     "iopub.status.idle": "2022-09-20T07:19:18.717336Z",
     "shell.execute_reply": "2022-09-20T07:19:18.716080Z"
    },
    "papermill": {
     "duration": 0.317888,
     "end_time": "2022-09-20T07:19:18.720145",
     "exception": false,
     "start_time": "2022-09-20T07:19:18.402257",
     "status": "completed"
    },
    "tags": []
   },
   "outputs": [],
   "source": [
    "from sklearn.model_selection import train_test_split\n",
    "\n",
    "train,test=train_test_split(data,test_size=0.3,random_state=0)\n",
    "    \n",
    "train_X=train[train.columns[:5]].to_numpy()\n",
    "train_Y=train[train.columns[5:]].to_numpy().ravel()\n",
    "test_X=test[test.columns[:5]].to_numpy()\n",
    "test_Y=test[test.columns[5:]].to_numpy().ravel()\n"
   ]
  },
  {
   "cell_type": "code",
   "execution_count": 18,
   "id": "0a32e417",
   "metadata": {
    "execution": {
     "iopub.execute_input": "2022-09-20T07:19:18.738309Z",
     "iopub.status.busy": "2022-09-20T07:19:18.737971Z",
     "iopub.status.idle": "2022-09-20T07:19:18.745075Z",
     "shell.execute_reply": "2022-09-20T07:19:18.743159Z"
    },
    "papermill": {
     "duration": 0.018978,
     "end_time": "2022-09-20T07:19:18.747719",
     "exception": false,
     "start_time": "2022-09-20T07:19:18.728741",
     "status": "completed"
    },
    "tags": []
   },
   "outputs": [
    {
     "name": "stdout",
     "output_type": "stream",
     "text": [
      "(208413, 5) (208413,) (89320, 5) (89320,)\n"
     ]
    }
   ],
   "source": [
    "print(train_X.shape, train_Y.shape, test_X.shape, test_Y.shape )"
   ]
  },
  {
   "cell_type": "code",
   "execution_count": 19,
   "id": "6024025e",
   "metadata": {
    "execution": {
     "iopub.execute_input": "2022-09-20T07:19:18.767465Z",
     "iopub.status.busy": "2022-09-20T07:19:18.767152Z",
     "iopub.status.idle": "2022-09-20T07:19:18.773667Z",
     "shell.execute_reply": "2022-09-20T07:19:18.772066Z"
    },
    "papermill": {
     "duration": 0.01877,
     "end_time": "2022-09-20T07:19:18.776016",
     "exception": false,
     "start_time": "2022-09-20T07:19:18.757246",
     "status": "completed"
    },
    "tags": []
   },
   "outputs": [
    {
     "name": "stdout",
     "output_type": "stream",
     "text": [
      "[ 40800.      0. 208000. ...  40000.  80750.      0.]\n"
     ]
    }
   ],
   "source": [
    "print(train_Y)"
   ]
  },
  {
   "cell_type": "code",
   "execution_count": 20,
   "id": "d774a960",
   "metadata": {
    "execution": {
     "iopub.execute_input": "2022-09-20T07:19:18.794360Z",
     "iopub.status.busy": "2022-09-20T07:19:18.794050Z",
     "iopub.status.idle": "2022-09-20T07:19:19.017305Z",
     "shell.execute_reply": "2022-09-20T07:19:19.016393Z"
    },
    "papermill": {
     "duration": 0.235203,
     "end_time": "2022-09-20T07:19:19.019667",
     "exception": false,
     "start_time": "2022-09-20T07:19:18.784464",
     "status": "completed"
    },
    "tags": []
   },
   "outputs": [
    {
     "name": "stdout",
     "output_type": "stream",
     "text": [
      "Coefficients: \n",
      " [  145.32408601  3542.82774652 -4662.14217418    -5.77494799\n",
      "  1649.75121786]\n",
      "Mean squared error: 4116339739.00\n",
      "Coefficient of determination: 0.20\n"
     ]
    }
   ],
   "source": [
    "from sklearn import datasets, linear_model\n",
    "from sklearn.metrics import mean_squared_error, r2_score\n",
    "\n",
    "# Create linear regression object\n",
    "regr = linear_model.LinearRegression()\n",
    "\n",
    "# Train the model using the training sets\n",
    "regr.fit(train_X, train_Y)\n",
    "\n",
    "# Make predictions using the testing set\n",
    "y_pred = regr.predict(test_X)\n",
    "\n",
    "# The coefficients\n",
    "print(\"Coefficients: \\n\", regr.coef_)\n",
    "# The mean squared error\n",
    "print(\"Mean squared error: %.2f\" % mean_squared_error(test_Y, y_pred))\n",
    "# The coefficient of determination: 1 is perfect prediction\n",
    "print(\"Coefficient of determination: %.2f\" % r2_score(test_Y, y_pred))\n"
   ]
  },
  {
   "cell_type": "code",
   "execution_count": 21,
   "id": "8d944ca6",
   "metadata": {
    "execution": {
     "iopub.execute_input": "2022-09-20T07:19:19.043390Z",
     "iopub.status.busy": "2022-09-20T07:19:19.042201Z",
     "iopub.status.idle": "2022-09-20T07:20:11.522267Z",
     "shell.execute_reply": "2022-09-20T07:20:11.520782Z"
    },
    "papermill": {
     "duration": 52.501298,
     "end_time": "2022-09-20T07:20:11.531620",
     "exception": false,
     "start_time": "2022-09-20T07:19:19.030322",
     "status": "completed"
    },
    "tags": []
   },
   "outputs": [
    {
     "name": "stdout",
     "output_type": "stream",
     "text": [
      "[Training set] MSE: 1097464210.3913, RMSE: 33127.9974, MAE: 15363.4374, R^2: 0.7785\n",
      " [Testing set] MSE: 3485164106.5918, RMSE: 59035.2785, MAE: 28242.3861, R^2: 0.3252\n"
     ]
    }
   ],
   "source": [
    "from sklearn.ensemble import RandomForestRegressor\n",
    "from sklearn.metrics import mean_squared_error, mean_absolute_error, r2_score\n",
    "import math\n",
    "\n",
    "rf = RandomForestRegressor(n_estimators=100)\n",
    "rf.fit(train_X, train_Y)\n",
    "\n",
    "y_pred_train = rf.predict(train_X)\n",
    "y_pred = rf.predict(test_X)\n",
    "\n",
    "mse_train = mean_squared_error(train_Y, y_pred_train)\n",
    "rmse_train = math.sqrt(mse_train)\n",
    "mae_train = mean_absolute_error(train_Y, y_pred_train)\n",
    "r2_train = r2_score(train_Y, y_pred_train)\n",
    "\n",
    "mse = mean_squared_error(test_Y, y_pred)\n",
    "rmse = math.sqrt(mse)\n",
    "mae = mean_absolute_error(test_Y, y_pred)\n",
    "r2 = r2_score(test_Y, y_pred)\n",
    "\n",
    "print(f\"[Training set] MSE: {mse_train:.4f}, RMSE: {rmse_train:.4f}, MAE: {mae_train:.4f}, R^2: {r2_train:.4f}\\n\",\n",
    "      f\"[Testing set] MSE: {mse:.4f}, RMSE: {rmse:.4f}, MAE: {mae:.4f}, R^2: {r2:.4f}\")"
   ]
  },
  {
   "cell_type": "code",
   "execution_count": null,
   "id": "cb60a36d",
   "metadata": {
    "papermill": {
     "duration": 0.009057,
     "end_time": "2022-09-20T07:20:11.549601",
     "exception": false,
     "start_time": "2022-09-20T07:20:11.540544",
     "status": "completed"
    },
    "tags": []
   },
   "outputs": [],
   "source": []
  }
 ],
 "metadata": {
  "kernelspec": {
   "display_name": "Python 3",
   "language": "python",
   "name": "python3"
  },
  "language_info": {
   "codemirror_mode": {
    "name": "ipython",
    "version": 3
   },
   "file_extension": ".py",
   "mimetype": "text/x-python",
   "name": "python",
   "nbconvert_exporter": "python",
   "pygments_lexer": "ipython3",
   "version": "3.7.12"
  },
  "papermill": {
   "default_parameters": {},
   "duration": 66.025881,
   "end_time": "2022-09-20T07:20:12.380940",
   "environment_variables": {},
   "exception": null,
   "input_path": "__notebook__.ipynb",
   "output_path": "__notebook__.ipynb",
   "parameters": {},
   "start_time": "2022-09-20T07:19:06.355059",
   "version": "2.3.4"
  }
 },
 "nbformat": 4,
 "nbformat_minor": 5
}
