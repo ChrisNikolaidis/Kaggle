{
 "cells": [
  {
   "cell_type": "code",
   "execution_count": 1,
   "id": "50e2e8dc",
   "metadata": {
    "_cell_guid": "b1076dfc-b9ad-4769-8c92-a6c4dae69d19",
    "_uuid": "8f2839f25d086af736a60e9eeb907d3b93b6e0e5",
    "execution": {
     "iopub.execute_input": "2022-10-14T12:06:36.250575Z",
     "iopub.status.busy": "2022-10-14T12:06:36.250076Z",
     "iopub.status.idle": "2022-10-14T12:06:43.259054Z",
     "shell.execute_reply": "2022-10-14T12:06:43.257617Z"
    },
    "papermill": {
     "duration": 7.022773,
     "end_time": "2022-10-14T12:06:43.262147",
     "exception": false,
     "start_time": "2022-10-14T12:06:36.239374",
     "status": "completed"
    },
    "tags": []
   },
   "outputs": [
    {
     "name": "stdout",
     "output_type": "stream",
     "text": [
      "/kaggle/input/eestech-challenge-4-local-round-xanthi/model_scripted.pt\n",
      "/kaggle/input/eestech-challenge-4-local-round-xanthi/query_model.py\n",
      "/kaggle/input/eestech-challenge-4-local-round-xanthi/dataset.csv\n"
     ]
    }
   ],
   "source": [
    "# This Python 3 environment comes with many helpful analytics libraries installed\n",
    "# It is defined by the kaggle/python Docker image: https://github.com/kaggle/docker-python\n",
    "# For example, here's several helpful packages to load\n",
    "\n",
    "import numpy as np\n",
    "import pandas as pd\n",
    "import torch\n",
    "from sklearn.model_selection import train_test_split\n",
    "from sklearn.metrics import confusion_matrix, roc_curve\n",
    "\n",
    "import torch\n",
    "from torch.utils.data import Dataset, DataLoader\n",
    "\n",
    "from matplotlib import pyplot as plt\n",
    "import os\n",
    "for dirname, _, filenames in os.walk('/kaggle/input'):\n",
    "    for filename in filenames:\n",
    "        print(os.path.join(dirname, filename))\n",
    "        \n",
    "data = pd.read_csv('../input/eestech-challenge-4-local-round-xanthi/dataset.csv', header=0)\n",
    "\n",
    "# You can write up to 20GB to the current directory (/kaggle/working/) that gets preserved as output when you create a version using \"Save & Run All\" \n",
    "# You can also write temporary files to /kaggle/temp/, but they won't be saved outside of the current session"
   ]
  },
  {
   "cell_type": "code",
   "execution_count": 2,
   "id": "1378e51c",
   "metadata": {
    "execution": {
     "iopub.execute_input": "2022-10-14T12:06:43.279501Z",
     "iopub.status.busy": "2022-10-14T12:06:43.279046Z",
     "iopub.status.idle": "2022-10-14T12:06:43.309921Z",
     "shell.execute_reply": "2022-10-14T12:06:43.308322Z"
    },
    "papermill": {
     "duration": 0.042451,
     "end_time": "2022-10-14T12:06:43.312628",
     "exception": false,
     "start_time": "2022-10-14T12:06:43.270177",
     "status": "completed"
    },
    "tags": []
   },
   "outputs": [
    {
     "data": {
      "text/html": [
       "<div>\n",
       "<style scoped>\n",
       "    .dataframe tbody tr th:only-of-type {\n",
       "        vertical-align: middle;\n",
       "    }\n",
       "\n",
       "    .dataframe tbody tr th {\n",
       "        vertical-align: top;\n",
       "    }\n",
       "\n",
       "    .dataframe thead th {\n",
       "        text-align: right;\n",
       "    }\n",
       "</style>\n",
       "<table border=\"1\" class=\"dataframe\">\n",
       "  <thead>\n",
       "    <tr style=\"text-align: right;\">\n",
       "      <th></th>\n",
       "      <th>poi_0</th>\n",
       "      <th>poi_1</th>\n",
       "      <th>poi_2</th>\n",
       "      <th>poi_3</th>\n",
       "      <th>poi_4</th>\n",
       "      <th>poi_5</th>\n",
       "      <th>poi_6</th>\n",
       "      <th>poi_7</th>\n",
       "      <th>poi_8</th>\n",
       "      <th>poi_9</th>\n",
       "      <th>...</th>\n",
       "      <th>poi_3449</th>\n",
       "      <th>poi_3450</th>\n",
       "      <th>poi_3451</th>\n",
       "      <th>poi_3452</th>\n",
       "      <th>poi_3453</th>\n",
       "      <th>poi_3454</th>\n",
       "      <th>poi_3455</th>\n",
       "      <th>poi_3456</th>\n",
       "      <th>poi_3457</th>\n",
       "      <th>target</th>\n",
       "    </tr>\n",
       "  </thead>\n",
       "  <tbody>\n",
       "    <tr>\n",
       "      <th>0</th>\n",
       "      <td>1</td>\n",
       "      <td>1</td>\n",
       "      <td>1</td>\n",
       "      <td>1</td>\n",
       "      <td>1</td>\n",
       "      <td>1</td>\n",
       "      <td>1</td>\n",
       "      <td>1</td>\n",
       "      <td>1</td>\n",
       "      <td>1</td>\n",
       "      <td>...</td>\n",
       "      <td>0</td>\n",
       "      <td>0</td>\n",
       "      <td>0</td>\n",
       "      <td>0</td>\n",
       "      <td>0</td>\n",
       "      <td>0</td>\n",
       "      <td>0</td>\n",
       "      <td>0</td>\n",
       "      <td>0</td>\n",
       "      <td>16</td>\n",
       "    </tr>\n",
       "    <tr>\n",
       "      <th>1</th>\n",
       "      <td>0</td>\n",
       "      <td>0</td>\n",
       "      <td>0</td>\n",
       "      <td>0</td>\n",
       "      <td>0</td>\n",
       "      <td>0</td>\n",
       "      <td>0</td>\n",
       "      <td>0</td>\n",
       "      <td>0</td>\n",
       "      <td>0</td>\n",
       "      <td>...</td>\n",
       "      <td>0</td>\n",
       "      <td>0</td>\n",
       "      <td>0</td>\n",
       "      <td>0</td>\n",
       "      <td>0</td>\n",
       "      <td>0</td>\n",
       "      <td>0</td>\n",
       "      <td>0</td>\n",
       "      <td>0</td>\n",
       "      <td>3</td>\n",
       "    </tr>\n",
       "    <tr>\n",
       "      <th>2</th>\n",
       "      <td>0</td>\n",
       "      <td>0</td>\n",
       "      <td>0</td>\n",
       "      <td>0</td>\n",
       "      <td>0</td>\n",
       "      <td>0</td>\n",
       "      <td>0</td>\n",
       "      <td>0</td>\n",
       "      <td>0</td>\n",
       "      <td>0</td>\n",
       "      <td>...</td>\n",
       "      <td>0</td>\n",
       "      <td>0</td>\n",
       "      <td>0</td>\n",
       "      <td>0</td>\n",
       "      <td>0</td>\n",
       "      <td>0</td>\n",
       "      <td>0</td>\n",
       "      <td>0</td>\n",
       "      <td>0</td>\n",
       "      <td>3</td>\n",
       "    </tr>\n",
       "    <tr>\n",
       "      <th>3</th>\n",
       "      <td>0</td>\n",
       "      <td>0</td>\n",
       "      <td>0</td>\n",
       "      <td>0</td>\n",
       "      <td>0</td>\n",
       "      <td>0</td>\n",
       "      <td>0</td>\n",
       "      <td>0</td>\n",
       "      <td>0</td>\n",
       "      <td>0</td>\n",
       "      <td>...</td>\n",
       "      <td>0</td>\n",
       "      <td>0</td>\n",
       "      <td>0</td>\n",
       "      <td>0</td>\n",
       "      <td>0</td>\n",
       "      <td>0</td>\n",
       "      <td>0</td>\n",
       "      <td>0</td>\n",
       "      <td>0</td>\n",
       "      <td>15</td>\n",
       "    </tr>\n",
       "    <tr>\n",
       "      <th>4</th>\n",
       "      <td>0</td>\n",
       "      <td>0</td>\n",
       "      <td>0</td>\n",
       "      <td>0</td>\n",
       "      <td>0</td>\n",
       "      <td>1</td>\n",
       "      <td>0</td>\n",
       "      <td>0</td>\n",
       "      <td>0</td>\n",
       "      <td>0</td>\n",
       "      <td>...</td>\n",
       "      <td>0</td>\n",
       "      <td>0</td>\n",
       "      <td>0</td>\n",
       "      <td>0</td>\n",
       "      <td>0</td>\n",
       "      <td>0</td>\n",
       "      <td>0</td>\n",
       "      <td>0</td>\n",
       "      <td>0</td>\n",
       "      <td>4</td>\n",
       "    </tr>\n",
       "    <tr>\n",
       "      <th>5</th>\n",
       "      <td>0</td>\n",
       "      <td>0</td>\n",
       "      <td>0</td>\n",
       "      <td>0</td>\n",
       "      <td>0</td>\n",
       "      <td>0</td>\n",
       "      <td>0</td>\n",
       "      <td>0</td>\n",
       "      <td>0</td>\n",
       "      <td>0</td>\n",
       "      <td>...</td>\n",
       "      <td>0</td>\n",
       "      <td>0</td>\n",
       "      <td>0</td>\n",
       "      <td>0</td>\n",
       "      <td>0</td>\n",
       "      <td>0</td>\n",
       "      <td>0</td>\n",
       "      <td>0</td>\n",
       "      <td>0</td>\n",
       "      <td>16</td>\n",
       "    </tr>\n",
       "    <tr>\n",
       "      <th>6</th>\n",
       "      <td>0</td>\n",
       "      <td>0</td>\n",
       "      <td>0</td>\n",
       "      <td>0</td>\n",
       "      <td>0</td>\n",
       "      <td>0</td>\n",
       "      <td>0</td>\n",
       "      <td>0</td>\n",
       "      <td>0</td>\n",
       "      <td>0</td>\n",
       "      <td>...</td>\n",
       "      <td>0</td>\n",
       "      <td>0</td>\n",
       "      <td>0</td>\n",
       "      <td>0</td>\n",
       "      <td>0</td>\n",
       "      <td>0</td>\n",
       "      <td>0</td>\n",
       "      <td>0</td>\n",
       "      <td>0</td>\n",
       "      <td>16</td>\n",
       "    </tr>\n",
       "    <tr>\n",
       "      <th>7</th>\n",
       "      <td>0</td>\n",
       "      <td>0</td>\n",
       "      <td>0</td>\n",
       "      <td>0</td>\n",
       "      <td>0</td>\n",
       "      <td>0</td>\n",
       "      <td>0</td>\n",
       "      <td>0</td>\n",
       "      <td>0</td>\n",
       "      <td>0</td>\n",
       "      <td>...</td>\n",
       "      <td>0</td>\n",
       "      <td>0</td>\n",
       "      <td>0</td>\n",
       "      <td>0</td>\n",
       "      <td>0</td>\n",
       "      <td>0</td>\n",
       "      <td>0</td>\n",
       "      <td>0</td>\n",
       "      <td>0</td>\n",
       "      <td>16</td>\n",
       "    </tr>\n",
       "    <tr>\n",
       "      <th>8</th>\n",
       "      <td>0</td>\n",
       "      <td>0</td>\n",
       "      <td>0</td>\n",
       "      <td>0</td>\n",
       "      <td>0</td>\n",
       "      <td>0</td>\n",
       "      <td>0</td>\n",
       "      <td>0</td>\n",
       "      <td>0</td>\n",
       "      <td>0</td>\n",
       "      <td>...</td>\n",
       "      <td>0</td>\n",
       "      <td>0</td>\n",
       "      <td>0</td>\n",
       "      <td>0</td>\n",
       "      <td>0</td>\n",
       "      <td>0</td>\n",
       "      <td>0</td>\n",
       "      <td>0</td>\n",
       "      <td>0</td>\n",
       "      <td>16</td>\n",
       "    </tr>\n",
       "    <tr>\n",
       "      <th>9</th>\n",
       "      <td>0</td>\n",
       "      <td>0</td>\n",
       "      <td>0</td>\n",
       "      <td>0</td>\n",
       "      <td>0</td>\n",
       "      <td>0</td>\n",
       "      <td>0</td>\n",
       "      <td>0</td>\n",
       "      <td>0</td>\n",
       "      <td>0</td>\n",
       "      <td>...</td>\n",
       "      <td>0</td>\n",
       "      <td>0</td>\n",
       "      <td>0</td>\n",
       "      <td>0</td>\n",
       "      <td>0</td>\n",
       "      <td>0</td>\n",
       "      <td>0</td>\n",
       "      <td>0</td>\n",
       "      <td>0</td>\n",
       "      <td>3</td>\n",
       "    </tr>\n",
       "  </tbody>\n",
       "</table>\n",
       "<p>10 rows × 3459 columns</p>\n",
       "</div>"
      ],
      "text/plain": [
       "   poi_0  poi_1  poi_2  poi_3  poi_4  poi_5  poi_6  poi_7  poi_8  poi_9  ...  \\\n",
       "0      1      1      1      1      1      1      1      1      1      1  ...   \n",
       "1      0      0      0      0      0      0      0      0      0      0  ...   \n",
       "2      0      0      0      0      0      0      0      0      0      0  ...   \n",
       "3      0      0      0      0      0      0      0      0      0      0  ...   \n",
       "4      0      0      0      0      0      1      0      0      0      0  ...   \n",
       "5      0      0      0      0      0      0      0      0      0      0  ...   \n",
       "6      0      0      0      0      0      0      0      0      0      0  ...   \n",
       "7      0      0      0      0      0      0      0      0      0      0  ...   \n",
       "8      0      0      0      0      0      0      0      0      0      0  ...   \n",
       "9      0      0      0      0      0      0      0      0      0      0  ...   \n",
       "\n",
       "   poi_3449  poi_3450  poi_3451  poi_3452  poi_3453  poi_3454  poi_3455  \\\n",
       "0         0         0         0         0         0         0         0   \n",
       "1         0         0         0         0         0         0         0   \n",
       "2         0         0         0         0         0         0         0   \n",
       "3         0         0         0         0         0         0         0   \n",
       "4         0         0         0         0         0         0         0   \n",
       "5         0         0         0         0         0         0         0   \n",
       "6         0         0         0         0         0         0         0   \n",
       "7         0         0         0         0         0         0         0   \n",
       "8         0         0         0         0         0         0         0   \n",
       "9         0         0         0         0         0         0         0   \n",
       "\n",
       "   poi_3456  poi_3457  target  \n",
       "0         0         0      16  \n",
       "1         0         0       3  \n",
       "2         0         0       3  \n",
       "3         0         0      15  \n",
       "4         0         0       4  \n",
       "5         0         0      16  \n",
       "6         0         0      16  \n",
       "7         0         0      16  \n",
       "8         0         0      16  \n",
       "9         0         0       3  \n",
       "\n",
       "[10 rows x 3459 columns]"
      ]
     },
     "execution_count": 2,
     "metadata": {},
     "output_type": "execute_result"
    }
   ],
   "source": [
    "data.head(10)"
   ]
  },
  {
   "cell_type": "code",
   "execution_count": 3,
   "id": "308761dc",
   "metadata": {
    "execution": {
     "iopub.execute_input": "2022-10-14T12:06:43.330277Z",
     "iopub.status.busy": "2022-10-14T12:06:43.329820Z",
     "iopub.status.idle": "2022-10-14T12:06:43.341761Z",
     "shell.execute_reply": "2022-10-14T12:06:43.340620Z"
    },
    "papermill": {
     "duration": 0.023477,
     "end_time": "2022-10-14T12:06:43.344224",
     "exception": false,
     "start_time": "2022-10-14T12:06:43.320747",
     "status": "completed"
    },
    "tags": []
   },
   "outputs": [
    {
     "name": "stdout",
     "output_type": "stream",
     "text": [
      "7767 [3048, 931, 618, 551, 321, 275, 259, 239, 228, 227]\n"
     ]
    }
   ],
   "source": [
    "print(len(data), sorted(data['target'].value_counts(), reverse=True)[:10])"
   ]
  },
  {
   "cell_type": "code",
   "execution_count": 4,
   "id": "75246696",
   "metadata": {
    "execution": {
     "iopub.execute_input": "2022-10-14T12:06:43.362647Z",
     "iopub.status.busy": "2022-10-14T12:06:43.362212Z",
     "iopub.status.idle": "2022-10-14T12:06:43.633515Z",
     "shell.execute_reply": "2022-10-14T12:06:43.632164Z"
    },
    "papermill": {
     "duration": 0.284149,
     "end_time": "2022-10-14T12:06:43.636911",
     "exception": false,
     "start_time": "2022-10-14T12:06:43.352762",
     "status": "completed"
    },
    "tags": []
   },
   "outputs": [],
   "source": [
    "columns = list(data.columns)\n",
    "columns = columns[:len(columns) - 1]\n",
    "X = data.loc[:, columns].to_numpy()\n",
    "y = data.target.to_numpy().ravel()"
   ]
  },
  {
   "cell_type": "code",
   "execution_count": 5,
   "id": "dc4bd3bd",
   "metadata": {
    "execution": {
     "iopub.execute_input": "2022-10-14T12:06:43.663213Z",
     "iopub.status.busy": "2022-10-14T12:06:43.662576Z",
     "iopub.status.idle": "2022-10-14T12:06:44.490693Z",
     "shell.execute_reply": "2022-10-14T12:06:44.489464Z"
    },
    "papermill": {
     "duration": 0.845092,
     "end_time": "2022-10-14T12:06:44.493447",
     "exception": false,
     "start_time": "2022-10-14T12:06:43.648355",
     "status": "completed"
    },
    "tags": []
   },
   "outputs": [],
   "source": [
    "indices = np.arange(len(X))\n",
    "X_train, X_test, y_train, y_test, indices_train, indices_test = train_test_split(X, y, indices, train_size=5436, test_size=2331,\n",
    "                                                                                 random_state=0, shuffle=True)"
   ]
  },
  {
   "cell_type": "code",
   "execution_count": 6,
   "id": "db5babef",
   "metadata": {
    "execution": {
     "iopub.execute_input": "2022-10-14T12:06:44.520286Z",
     "iopub.status.busy": "2022-10-14T12:06:44.519232Z",
     "iopub.status.idle": "2022-10-14T12:06:44.526458Z",
     "shell.execute_reply": "2022-10-14T12:06:44.525437Z"
    },
    "papermill": {
     "duration": 0.0235,
     "end_time": "2022-10-14T12:06:44.529199",
     "exception": false,
     "start_time": "2022-10-14T12:06:44.505699",
     "status": "completed"
    },
    "tags": []
   },
   "outputs": [
    {
     "data": {
      "text/plain": [
       "(5436, 2331)"
      ]
     },
     "execution_count": 6,
     "metadata": {},
     "output_type": "execute_result"
    }
   ],
   "source": [
    "len(indices_train), len(indices_test)"
   ]
  },
  {
   "cell_type": "code",
   "execution_count": 7,
   "id": "73b5366d",
   "metadata": {
    "execution": {
     "iopub.execute_input": "2022-10-14T12:06:44.552271Z",
     "iopub.status.busy": "2022-10-14T12:06:44.551566Z",
     "iopub.status.idle": "2022-10-14T12:06:44.558818Z",
     "shell.execute_reply": "2022-10-14T12:06:44.557785Z"
    },
    "papermill": {
     "duration": 0.020332,
     "end_time": "2022-10-14T12:06:44.561033",
     "exception": false,
     "start_time": "2022-10-14T12:06:44.540701",
     "status": "completed"
    },
    "tags": []
   },
   "outputs": [
    {
     "data": {
      "text/plain": [
       "array([4923,  849, 6769, ..., 1653, 2607, 2732])"
      ]
     },
     "execution_count": 7,
     "metadata": {},
     "output_type": "execute_result"
    }
   ],
   "source": [
    "indices_train"
   ]
  },
  {
   "cell_type": "code",
   "execution_count": 8,
   "id": "9f11e611",
   "metadata": {
    "execution": {
     "iopub.execute_input": "2022-10-14T12:06:44.580228Z",
     "iopub.status.busy": "2022-10-14T12:06:44.579573Z",
     "iopub.status.idle": "2022-10-14T12:06:44.586413Z",
     "shell.execute_reply": "2022-10-14T12:06:44.585372Z"
    },
    "papermill": {
     "duration": 0.018914,
     "end_time": "2022-10-14T12:06:44.588565",
     "exception": false,
     "start_time": "2022-10-14T12:06:44.569651",
     "status": "completed"
    },
    "tags": []
   },
   "outputs": [
    {
     "data": {
      "text/plain": [
       "array([1726, 1085, 2404, ..., 3517,  923, 7433])"
      ]
     },
     "execution_count": 8,
     "metadata": {},
     "output_type": "execute_result"
    }
   ],
   "source": [
    "indices_test"
   ]
  },
  {
   "cell_type": "code",
   "execution_count": 9,
   "id": "93ed9cca",
   "metadata": {
    "execution": {
     "iopub.execute_input": "2022-10-14T12:06:44.608679Z",
     "iopub.status.busy": "2022-10-14T12:06:44.608014Z",
     "iopub.status.idle": "2022-10-14T12:06:44.616887Z",
     "shell.execute_reply": "2022-10-14T12:06:44.615482Z"
    },
    "papermill": {
     "duration": 0.021539,
     "end_time": "2022-10-14T12:06:44.619624",
     "exception": false,
     "start_time": "2022-10-14T12:06:44.598085",
     "status": "completed"
    },
    "tags": []
   },
   "outputs": [],
   "source": [
    "membership = dict()\n",
    "for idx in indices_train:\n",
    "    membership[idx] = 1\n",
    "for idx in indices_test:\n",
    "    membership[idx] = 0"
   ]
  },
  {
   "cell_type": "code",
   "execution_count": 10,
   "id": "ef1cfec7",
   "metadata": {
    "execution": {
     "iopub.execute_input": "2022-10-14T12:06:44.639900Z",
     "iopub.status.busy": "2022-10-14T12:06:44.639022Z",
     "iopub.status.idle": "2022-10-14T12:06:44.647772Z",
     "shell.execute_reply": "2022-10-14T12:06:44.646466Z"
    },
    "papermill": {
     "duration": 0.021877,
     "end_time": "2022-10-14T12:06:44.650381",
     "exception": false,
     "start_time": "2022-10-14T12:06:44.628504",
     "status": "completed"
    },
    "tags": []
   },
   "outputs": [
    {
     "name": "stdout",
     "output_type": "stream",
     "text": [
      "Found 18 classes\n",
      "Number of samples per class (train) {0: 183, 1: 141, 2: 228, 3: 2135, 4: 172, 5: 129, 6: 192, 7: 383, 8: 55, 9: 47, 10: 648, 11: 147, 12: 157, 13: 96, 14: 69, 15: 444, 16: 145, 17: 65}\n",
      "Number of samples per class (test) {0: 56, 1: 56, 2: 93, 3: 913, 4: 87, 5: 71, 6: 83, 7: 168, 8: 26, 9: 16, 10: 283, 11: 59, 12: 70, 13: 42, 14: 31, 15: 174, 16: 83, 17: 20}\n"
     ]
    }
   ],
   "source": [
    "num_classes = len(np.unique(y_train))\n",
    "counts_train = np.bincount(y_train)\n",
    "counts_test = np.bincount(y_test)\n",
    "\n",
    "print(f\"Found {num_classes} classes\")\n",
    "print(\"Number of samples per class (train)\", {i: counts_train[i] for i in range(len(counts_train))})\n",
    "print(\"Number of samples per class (test)\", {i: counts_test[i] for i in range(len(counts_test))})"
   ]
  },
  {
   "cell_type": "code",
   "execution_count": 11,
   "id": "e2dcba4f",
   "metadata": {
    "execution": {
     "iopub.execute_input": "2022-10-14T12:06:44.672655Z",
     "iopub.status.busy": "2022-10-14T12:06:44.671700Z",
     "iopub.status.idle": "2022-10-14T12:06:44.681499Z",
     "shell.execute_reply": "2022-10-14T12:06:44.680228Z"
    },
    "papermill": {
     "duration": 0.024265,
     "end_time": "2022-10-14T12:06:44.684315",
     "exception": false,
     "start_time": "2022-10-14T12:06:44.660050",
     "status": "completed"
    },
    "tags": []
   },
   "outputs": [],
   "source": [
    "class ClassifierDataset(Dataset):\n",
    "    def __init__(self, x_data, y_data):\n",
    "        self.x_data = x_data\n",
    "        self.y_data = y_data\n",
    "\n",
    "    def __getitem__(self, index):\n",
    "        return self.x_data[index], self.y_data[index]\n",
    "\n",
    "    def __len__(self):\n",
    "        return len(self.x_data)\n",
    "    \n",
    "def generate_dataset(train_x, train_y, batch_size, shuffle=True):\n",
    "    dataset = ClassifierDataset(torch.from_numpy(train_x).float(), torch.from_numpy(train_y).long())\n",
    "    loader = DataLoader(dataset=dataset, batch_size=batch_size, shuffle=shuffle)\n",
    "\n",
    "    return loader"
   ]
  },
  {
   "cell_type": "code",
   "execution_count": 12,
   "id": "0efffa62",
   "metadata": {
    "execution": {
     "iopub.execute_input": "2022-10-14T12:06:44.703908Z",
     "iopub.status.busy": "2022-10-14T12:06:44.702846Z",
     "iopub.status.idle": "2022-10-14T12:06:44.819538Z",
     "shell.execute_reply": "2022-10-14T12:06:44.818502Z"
    },
    "papermill": {
     "duration": 0.128917,
     "end_time": "2022-10-14T12:06:44.822015",
     "exception": false,
     "start_time": "2022-10-14T12:06:44.693098",
     "status": "completed"
    },
    "tags": []
   },
   "outputs": [],
   "source": [
    "train_loader = generate_dataset(X_train, y_train, batch_size=1024, shuffle=True)\n",
    "test_loader = generate_dataset(X_test, y_test, batch_size=1024, shuffle=True)"
   ]
  },
  {
   "cell_type": "code",
   "execution_count": 13,
   "id": "f400cef4",
   "metadata": {
    "execution": {
     "iopub.execute_input": "2022-10-14T12:06:44.841184Z",
     "iopub.status.busy": "2022-10-14T12:06:44.840736Z",
     "iopub.status.idle": "2022-10-14T12:06:44.847169Z",
     "shell.execute_reply": "2022-10-14T12:06:44.845794Z"
    },
    "papermill": {
     "duration": 0.018967,
     "end_time": "2022-10-14T12:06:44.849583",
     "exception": false,
     "start_time": "2022-10-14T12:06:44.830616",
     "status": "completed"
    },
    "tags": []
   },
   "outputs": [
    {
     "name": "stdout",
     "output_type": "stream",
     "text": [
      "Training set size: ((5436, 3458),(5436,)), Testing set size: ((2331, 3458),(2331,))\n"
     ]
    }
   ],
   "source": [
    "print(f\"Training set size: ({X_train.shape},{y_train.shape}), Testing set size: ({X_test.shape},{y_test.shape})\")"
   ]
  },
  {
   "cell_type": "code",
   "execution_count": 14,
   "id": "80163ac5",
   "metadata": {
    "execution": {
     "iopub.execute_input": "2022-10-14T12:06:44.870224Z",
     "iopub.status.busy": "2022-10-14T12:06:44.869683Z",
     "iopub.status.idle": "2022-10-14T12:06:44.878710Z",
     "shell.execute_reply": "2022-10-14T12:06:44.877220Z"
    },
    "papermill": {
     "duration": 0.022354,
     "end_time": "2022-10-14T12:06:44.881333",
     "exception": false,
     "start_time": "2022-10-14T12:06:44.858979",
     "status": "completed"
    },
    "tags": []
   },
   "outputs": [],
   "source": [
    "class MLP(torch.nn.Module):\n",
    "    def __init__(self, input_dim, num_classes):\n",
    "        super(MLP, self).__init__()\n",
    "        self.layer1 = torch.nn.Linear(input_dim, 128)\n",
    "        self.out = torch.nn.Linear(128, num_classes)\n",
    "        self.activation = torch.nn.ReLU()\n",
    "\n",
    "    def forward(self, x):\n",
    "        x = self.layer1(x)\n",
    "        x = self.activation(x)\n",
    "        x = self.out(x)\n",
    "        return x"
   ]
  },
  {
   "cell_type": "code",
   "execution_count": 15,
   "id": "8b3347e9",
   "metadata": {
    "execution": {
     "iopub.execute_input": "2022-10-14T12:06:44.901302Z",
     "iopub.status.busy": "2022-10-14T12:06:44.900869Z",
     "iopub.status.idle": "2022-10-14T12:06:44.917398Z",
     "shell.execute_reply": "2022-10-14T12:06:44.916092Z"
    },
    "papermill": {
     "duration": 0.02989,
     "end_time": "2022-10-14T12:06:44.920234",
     "exception": false,
     "start_time": "2022-10-14T12:06:44.890344",
     "status": "completed"
    },
    "tags": []
   },
   "outputs": [],
   "source": [
    "def test(model, data, criterion, prob=False):\n",
    "    model.eval()\n",
    "    loss, correct = 0., 0\n",
    "    probabilities, labels = [], []\n",
    "    if prob:\n",
    "        softmax = torch.nn.Softmax(dim=1)\n",
    "    with torch.no_grad():\n",
    "        for x, y in data:\n",
    "            out = model(x)\n",
    "            if prob:\n",
    "                probability = softmax(out)\n",
    "                probabilities.append(probability.flatten().tolist())\n",
    "            loss += criterion(out, y).item()\n",
    "            pred = out.argmax(dim=1)\n",
    "\n",
    "            correct += int((pred == y).sum().item())\n",
    "            labels.extend(y.tolist())\n",
    "    loss = loss / len(data)\n",
    "    accuracy = correct / len(data.dataset)\n",
    "\n",
    "    if prob:\n",
    "        return probabilities, loss, accuracy, np.array(labels)\n",
    "\n",
    "    return loss, accuracy\n",
    "\n",
    "def train(model, train_loader, test_loader, optimizer, criterion, epochs, log_interval=1, plot=True):\n",
    "    train_loss_history, train_acc_history = [], []  # track loss, accuracy\n",
    "    test_loss_history, test_acc_history = [], []\n",
    "    for epoch in range(1, epochs + 1):\n",
    "        model.train()  # training mode\n",
    "        for data, target in train_loader:\n",
    "            optimizer.zero_grad()  # zero out gradients\n",
    "            y_pred = model(data)  # forward propagation\n",
    "            loss = criterion(y_pred, target)  # calculate loss\n",
    "            loss.backward()  # backward pass, compute grads wrt to model parameters\n",
    "            optimizer.step()  # update weights\n",
    "\n",
    "        train_loss, train_acc = test(model, train_loader, criterion)  # test the model\n",
    "        test_loss, test_acc = test(model, test_loader, criterion)\n",
    "\n",
    "        train_acc_history.append(train_acc)  # keep metric history\n",
    "        test_acc_history.append(test_acc)\n",
    "        train_loss_history.append(train_loss)\n",
    "        test_loss_history.append(test_loss)\n",
    "\n",
    "        if epoch % log_interval == 0:  # log\n",
    "            print(f\"Epoch: [{epoch}/{epochs}]: Accuracy: {train_acc:.4f}, Loss: {train_loss:.4f}\")\n",
    "            print(f\"\\tEval Accuracy: {test_acc}, Loss: {test_loss:.4f}\")\n",
    "\n",
    "    if plot:  # plot history\n",
    "        plt.plot(train_acc_history, label=\"Train Acc\")\n",
    "        plt.plot(test_acc_history, label=\"Test Acc\")\n",
    "        plt.legend()\n",
    "        plt.show()\n",
    "        plt.close()\n",
    "\n",
    "        plt.plot(train_loss_history, label=\"Train Loss\")\n",
    "        plt.plot(test_loss_history, label=\"Test Loss\")\n",
    "        plt.legend()\n",
    "        plt.show()\n",
    "        plt.close()\n",
    "\n",
    "    return model"
   ]
  },
  {
   "cell_type": "code",
   "execution_count": 16,
   "id": "e08679cb",
   "metadata": {
    "execution": {
     "iopub.execute_input": "2022-10-14T12:06:44.940310Z",
     "iopub.status.busy": "2022-10-14T12:06:44.939874Z",
     "iopub.status.idle": "2022-10-14T12:06:44.953694Z",
     "shell.execute_reply": "2022-10-14T12:06:44.952711Z"
    },
    "papermill": {
     "duration": 0.027005,
     "end_time": "2022-10-14T12:06:44.956403",
     "exception": false,
     "start_time": "2022-10-14T12:06:44.929398",
     "status": "completed"
    },
    "tags": []
   },
   "outputs": [],
   "source": [
    "model = MLP(X_train.shape[1], num_classes)\n",
    "optimizer = torch.optim.Adam(model.parameters(), lr=1e-3)\n",
    "criterion = torch.nn.CrossEntropyLoss()\n",
    "epochs = 150"
   ]
  },
  {
   "cell_type": "code",
   "execution_count": 17,
   "id": "c6aa1d98",
   "metadata": {
    "execution": {
     "iopub.execute_input": "2022-10-14T12:06:44.976526Z",
     "iopub.status.busy": "2022-10-14T12:06:44.976090Z",
     "iopub.status.idle": "2022-10-14T12:07:32.723246Z",
     "shell.execute_reply": "2022-10-14T12:07:32.721881Z"
    },
    "papermill": {
     "duration": 47.760557,
     "end_time": "2022-10-14T12:07:32.726350",
     "exception": false,
     "start_time": "2022-10-14T12:06:44.965793",
     "status": "completed"
    },
    "tags": []
   },
   "outputs": [
    {
     "name": "stdout",
     "output_type": "stream",
     "text": [
      "Epoch: [20/150]: Accuracy: 0.9369, Loss: 0.3422\n",
      "\tEval Accuracy: 0.7876447876447876, Loss: 0.7002\n",
      "Epoch: [40/150]: Accuracy: 0.9866, Loss: 0.1144\n",
      "\tEval Accuracy: 0.8018018018018018, Loss: 0.6006\n",
      "Epoch: [60/150]: Accuracy: 0.9969, Loss: 0.0541\n",
      "\tEval Accuracy: 0.8099528099528099, Loss: 0.6565\n",
      "Epoch: [80/150]: Accuracy: 0.9996, Loss: 0.0303\n",
      "\tEval Accuracy: 0.8125268125268126, Loss: 0.6366\n",
      "Epoch: [100/150]: Accuracy: 1.0000, Loss: 0.0190\n",
      "\tEval Accuracy: 0.8120978120978121, Loss: 0.6883\n",
      "Epoch: [120/150]: Accuracy: 1.0000, Loss: 0.0124\n",
      "\tEval Accuracy: 0.8142428142428142, Loss: 0.7287\n",
      "Epoch: [140/150]: Accuracy: 1.0000, Loss: 0.0086\n",
      "\tEval Accuracy: 0.8159588159588159, Loss: 0.7459\n"
     ]
    },
    {
     "data": {
      "image/png": "[encoded data removed]",
      "text/plain": [
       "<Figure size 432x288 with 1 Axes>"
      ]
     },
     "metadata": {
      "needs_background": "light"
     },
     "output_type": "display_data"
    },
    {
     "data": {
      "image/png": "[encoded data removed]",
      "text/plain": [
       "<Figure size 432x288 with 1 Axes>"
      ]
     },
     "metadata": {
      "needs_background": "light"
     },
     "output_type": "display_data"
    }
   ],
   "source": [
    "trained_model = train(model, train_loader, test_loader, optimizer, criterion, epochs, log_interval=20, plot=True)"
   ]
  },
  {
   "cell_type": "code",
   "execution_count": 18,
   "id": "5827888d",
   "metadata": {
    "execution": {
     "iopub.execute_input": "2022-10-14T12:07:32.748532Z",
     "iopub.status.busy": "2022-10-14T12:07:32.747861Z",
     "iopub.status.idle": "2022-10-14T12:07:34.226804Z",
     "shell.execute_reply": "2022-10-14T12:07:34.224804Z"
    },
    "papermill": {
     "duration": 1.492835,
     "end_time": "2022-10-14T12:07:34.229534",
     "exception": false,
     "start_time": "2022-10-14T12:07:32.736699",
     "status": "completed"
    },
    "tags": []
   },
   "outputs": [
    {
     "name": "stdout",
     "output_type": "stream",
     "text": [
      "***Training Data Evaluation Example***\n",
      "Accuracy: 1.0000, loss: 0.0076\n"
     ]
    }
   ],
   "source": [
    "print(\"***Training Data Evaluation Example***\")\n",
    "test_loader = generate_dataset(X_train, y_train, batch_size=1)\n",
    "probabilitites_train, test_loss, accuracy, _ = test(trained_model, test_loader, criterion, prob=True)\n",
    "print(f\"Accuracy: {accuracy:.4f}, loss: {test_loss:.4f}\")"
   ]
  },
  {
   "cell_type": "code",
   "execution_count": 19,
   "id": "406081e0",
   "metadata": {
    "execution": {
     "iopub.execute_input": "2022-10-14T12:07:34.251626Z",
     "iopub.status.busy": "2022-10-14T12:07:34.250299Z",
     "iopub.status.idle": "2022-10-14T12:07:34.257834Z",
     "shell.execute_reply": "2022-10-14T12:07:34.256489Z"
    },
    "papermill": {
     "duration": 0.020923,
     "end_time": "2022-10-14T12:07:34.260263",
     "exception": false,
     "start_time": "2022-10-14T12:07:34.239340",
     "status": "completed"
    },
    "tags": []
   },
   "outputs": [
    {
     "name": "stdout",
     "output_type": "stream",
     "text": [
      "[1.7161462437798036e-06, 1.335618071607314e-05, 0.0005154526443220675, 0.9898536801338196, 6.72343321639346e-06, 3.883589306497015e-05, 1.4922577975085005e-05, 3.146079325233586e-05, 1.1779101441788953e-05, 0.00022637475922238082, 8.7923945102375e-05, 0.008990395814180374, 9.320050594396889e-05, 4.730280124931596e-05, 3.6149976949673146e-05, 2.2477563106804155e-05, 5.037914888816886e-06, 3.1926333576848265e-06]\n"
     ]
    }
   ],
   "source": [
    "print(probabilitites_train[0])"
   ]
  },
  {
   "cell_type": "code",
   "execution_count": 20,
   "id": "733d7ea0",
   "metadata": {
    "execution": {
     "iopub.execute_input": "2022-10-14T12:07:34.281282Z",
     "iopub.status.busy": "2022-10-14T12:07:34.280825Z",
     "iopub.status.idle": "2022-10-14T12:07:34.289637Z",
     "shell.execute_reply": "2022-10-14T12:07:34.288205Z"
    },
    "papermill": {
     "duration": 0.022088,
     "end_time": "2022-10-14T12:07:34.292025",
     "exception": false,
     "start_time": "2022-10-14T12:07:34.269937",
     "status": "completed"
    },
    "tags": []
   },
   "outputs": [
    {
     "name": "stdout",
     "output_type": "stream",
     "text": [
      "tensor(3)\n"
     ]
    },
    {
     "data": {
      "text/plain": [
       "0.9898536801338196"
      ]
     },
     "execution_count": 20,
     "metadata": {},
     "output_type": "execute_result"
    }
   ],
   "source": [
    "idx = torch.argmax(torch.from_numpy(np.array(probabilitites_train[0])))\n",
    "print(idx)\n",
    "probabilitites_train[0][idx.item()]"
   ]
  },
  {
   "cell_type": "code",
   "execution_count": 21,
   "id": "5f448b56",
   "metadata": {
    "execution": {
     "iopub.execute_input": "2022-10-14T12:07:34.313719Z",
     "iopub.status.busy": "2022-10-14T12:07:34.313067Z",
     "iopub.status.idle": "2022-10-14T12:07:34.946524Z",
     "shell.execute_reply": "2022-10-14T12:07:34.945203Z"
    },
    "papermill": {
     "duration": 0.647513,
     "end_time": "2022-10-14T12:07:34.949442",
     "exception": false,
     "start_time": "2022-10-14T12:07:34.301929",
     "status": "completed"
    },
    "tags": []
   },
   "outputs": [
    {
     "name": "stdout",
     "output_type": "stream",
     "text": [
      "***Testing Data Evaluation Example***\n",
      "Accuracy: 0.8164, loss: 0.7553\n"
     ]
    }
   ],
   "source": [
    "print(\"***Testing Data Evaluation Example***\")\n",
    "test_loader = generate_dataset(X_test, y_test, batch_size=1, shuffle=False)\n",
    "probabilitites_test, test_loss, accuracy, _ = test(trained_model, test_loader, criterion, prob=True)\n",
    "print(f\"Accuracy: {accuracy:.4f}, loss: {test_loss:.4f}\")"
   ]
  },
  {
   "cell_type": "code",
   "execution_count": 22,
   "id": "3fa764e0",
   "metadata": {
    "execution": {
     "iopub.execute_input": "2022-10-14T12:07:34.974269Z",
     "iopub.status.busy": "2022-10-14T12:07:34.973199Z",
     "iopub.status.idle": "2022-10-14T12:07:34.978668Z",
     "shell.execute_reply": "2022-10-14T12:07:34.977610Z"
    },
    "papermill": {
     "duration": 0.019636,
     "end_time": "2022-10-14T12:07:34.981179",
     "exception": false,
     "start_time": "2022-10-14T12:07:34.961543",
     "status": "completed"
    },
    "tags": []
   },
   "outputs": [
    {
     "name": "stdout",
     "output_type": "stream",
     "text": [
      "[[1.3694295830646297e-07, 6.507685611722991e-06, 8.002200956980232e-06, 0.9998666048049927, 6.882731327095826e-07, 9.898338248603977e-06, 1.1649874977592845e-05, 4.5059409785608295e-06, 3.332913365738932e-06, 8.269104796454485e-07, 6.880939326947555e-05, 2.9051120691292454e-06, 6.2769449868937954e-06, 2.8173374175821664e-06, 3.1500367185799405e-06, 1.3424515827864525e-06, 2.2865506252855994e-06, 2.806132783916837e-07]]\n"
     ]
    }
   ],
   "source": [
    "print(probabilitites_test[:1])"
   ]
  },
  {
   "cell_type": "code",
   "execution_count": 23,
   "id": "b8523ea2",
   "metadata": {
    "execution": {
     "iopub.execute_input": "2022-10-14T12:07:35.003588Z",
     "iopub.status.busy": "2022-10-14T12:07:35.003162Z",
     "iopub.status.idle": "2022-10-14T12:07:35.013184Z",
     "shell.execute_reply": "2022-10-14T12:07:35.012007Z"
    },
    "papermill": {
     "duration": 0.024078,
     "end_time": "2022-10-14T12:07:35.015631",
     "exception": false,
     "start_time": "2022-10-14T12:07:34.991553",
     "status": "completed"
    },
    "tags": []
   },
   "outputs": [
    {
     "name": "stdout",
     "output_type": "stream",
     "text": [
      "tensor(3)\n"
     ]
    },
    {
     "data": {
      "text/plain": [
       "0.9998666048049927"
      ]
     },
     "execution_count": 23,
     "metadata": {},
     "output_type": "execute_result"
    }
   ],
   "source": [
    "idx = torch.argmax(torch.from_numpy(np.array(probabilitites_test[0])))\n",
    "print(idx)\n",
    "probabilitites_test[0][idx.item()]"
   ]
  },
  {
   "cell_type": "code",
   "execution_count": 24,
   "id": "2bc256c6",
   "metadata": {
    "execution": {
     "iopub.execute_input": "2022-10-14T12:07:35.038117Z",
     "iopub.status.busy": "2022-10-14T12:07:35.037712Z",
     "iopub.status.idle": "2022-10-14T12:07:35.051919Z",
     "shell.execute_reply": "2022-10-14T12:07:35.050395Z"
    },
    "papermill": {
     "duration": 0.028453,
     "end_time": "2022-10-14T12:07:35.054416",
     "exception": false,
     "start_time": "2022-10-14T12:07:35.025963",
     "status": "completed"
    },
    "tags": []
   },
   "outputs": [],
   "source": [
    "def threshold_membership_inference(target_model,\n",
    "                                   threshold=0.9):\n",
    "    \n",
    "    # attacker gets a set of samples\n",
    "    data = pd.read_csv('../input/eestech-challenge-4-local-round-xanthi/dataset.csv', header=0)\n",
    "    # print(data['target'].value_counts())\n",
    "\n",
    "    columns = list(data.columns)\n",
    "    columns = columns[:len(columns) - 1]\n",
    "    X = data.loc[:, columns].to_numpy()\n",
    "    y = data.target.to_numpy().ravel()\n",
    "\n",
    "    num_classes = len(np.unique(y))\n",
    "    dataset = X, y\n",
    "    \n",
    "    # attacker queries the model\n",
    "    target_model.eval()\n",
    "    \n",
    "    softmax = torch.nn.Softmax(dim=0)\n",
    "    target_correct = 0\n",
    "    idx_membership = {}\n",
    "    attack_correct = 0\n",
    "    \n",
    "    with torch.no_grad():\n",
    "        for i in range(len(X)): # for each sample in the given dataset\n",
    "            # transform to torch tensor\n",
    "            tmp_x, tmp_y = torch.from_numpy(X[i]).float(), int(y[i])\n",
    "            # query the model\n",
    "            out = target_model(tmp_x)\n",
    "            # get confidence scores\n",
    "            probability = softmax(out) \n",
    "            pred = out.argmax().item() \n",
    "            if pred == tmp_y:\n",
    "                target_correct += 1\n",
    "            \n",
    "            # get the maximum confidence score for a sample\n",
    "            max_prob = torch.max(probability).item()\n",
    "            # insert sample to members if max_prob > threshold\n",
    "            if max_prob > threshold:\n",
    "                membership_pred = 1\n",
    "            else:\n",
    "                membership_pred = 0\n",
    "            idx_membership[i] = membership_pred\n",
    "    print(\"Target Acc:\", target_correct / len(X))\n",
    "    return idx_membership        "
   ]
  },
  {
   "cell_type": "code",
   "execution_count": 25,
   "id": "277c77c5",
   "metadata": {
    "execution": {
     "iopub.execute_input": "2022-10-14T12:07:35.076842Z",
     "iopub.status.busy": "2022-10-14T12:07:35.076440Z",
     "iopub.status.idle": "2022-10-14T12:07:39.733963Z",
     "shell.execute_reply": "2022-10-14T12:07:39.732486Z"
    },
    "papermill": {
     "duration": 4.67208,
     "end_time": "2022-10-14T12:07:39.736826",
     "exception": false,
     "start_time": "2022-10-14T12:07:35.064746",
     "status": "completed"
    },
    "tags": []
   },
   "outputs": [
    {
     "name": "stdout",
     "output_type": "stream",
     "text": [
      "Target Acc: 0.9448950688811639\n"
     ]
    }
   ],
   "source": [
    "predictions = threshold_membership_inference(trained_model,threshold=0.9)"
   ]
  },
  {
   "cell_type": "code",
   "execution_count": 26,
   "id": "8fe1de63",
   "metadata": {
    "execution": {
     "iopub.execute_input": "2022-10-14T12:07:39.759371Z",
     "iopub.status.busy": "2022-10-14T12:07:39.758908Z",
     "iopub.status.idle": "2022-10-14T12:07:39.768388Z",
     "shell.execute_reply": "2022-10-14T12:07:39.767337Z"
    },
    "papermill": {
     "duration": 0.023619,
     "end_time": "2022-10-14T12:07:39.770770",
     "exception": false,
     "start_time": "2022-10-14T12:07:39.747151",
     "status": "completed"
    },
    "tags": []
   },
   "outputs": [],
   "source": [
    "def get_membership_score(membership, predictions):\n",
    "    assert len(membership) == len(predictions)\n",
    "    correct = 0\n",
    "    y_true, y_pred = [], []\n",
    "    for key in predictions:\n",
    "        if predictions[key] == membership[key]:\n",
    "            correct += 1\n",
    "        y_true.append(membership[key])\n",
    "        y_pred.append(predictions[key])\n",
    "        \n",
    "    tn, fp, fn, tp = confusion_matrix(y_true, y_pred).ravel()\n",
    "\n",
    "    precision = tp / (tp + fp)\n",
    "    recall = tp / (tp + fn)\n",
    "    fpr, tpr, thresholds = roc_curve(y_true, y_pred, pos_label=1)\n",
    "\n",
    "    print(f\"Correct predictions: {correct}/{len(predictions)}\")\n",
    "    print(f\"Accuracy: {correct / len(predictions):.4f}\")\n",
    "    print(f'TP: {tp}, TN: {tn}, FP: {fp}, FN: {fn}')\n",
    "    print(f\"Attack Precision: {precision}\")\n",
    "    print(f\"Attack Recall: {recall}\")\n",
    "    print(f\"Advantage (= tpr - fpr): {tpr[1] - fpr[1]}\")"
   ]
  },
  {
   "cell_type": "code",
   "execution_count": 27,
   "id": "c33a22e6",
   "metadata": {
    "execution": {
     "iopub.execute_input": "2022-10-14T12:07:39.793587Z",
     "iopub.status.busy": "2022-10-14T12:07:39.792800Z",
     "iopub.status.idle": "2022-10-14T12:07:39.819809Z",
     "shell.execute_reply": "2022-10-14T12:07:39.818295Z"
    },
    "papermill": {
     "duration": 0.041828,
     "end_time": "2022-10-14T12:07:39.822862",
     "exception": false,
     "start_time": "2022-10-14T12:07:39.781034",
     "status": "completed"
    },
    "tags": []
   },
   "outputs": [
    {
     "name": "stdout",
     "output_type": "stream",
     "text": [
      "Correct predictions: 5958/7767\n",
      "Accuracy: 0.7671\n",
      "TP: 5411, TN: 547, FP: 1784, FN: 25\n",
      "Attack Precision: 0.7520500347463517\n",
      "Attack Recall: 0.9954010301692421\n",
      "Advantage (= tpr - fpr): 0.23006426483247677\n"
     ]
    }
   ],
   "source": [
    "get_membership_score(membership, predictions)"
   ]
  },
  {
   "cell_type": "code",
   "execution_count": 28,
   "id": "4766d84d",
   "metadata": {
    "execution": {
     "iopub.execute_input": "2022-10-14T12:07:39.846713Z",
     "iopub.status.busy": "2022-10-14T12:07:39.846078Z",
     "iopub.status.idle": "2022-10-14T12:07:39.855002Z",
     "shell.execute_reply": "2022-10-14T12:07:39.854070Z"
    },
    "papermill": {
     "duration": 0.023436,
     "end_time": "2022-10-14T12:07:39.857337",
     "exception": false,
     "start_time": "2022-10-14T12:07:39.833901",
     "status": "completed"
    },
    "tags": []
   },
   "outputs": [],
   "source": [
    "def correct_membership_inference(target_model):\n",
    "    \n",
    "    # attacker gets a set of samples\n",
    "    data = pd.read_csv('../input/eestech-challenge-4-local-round-xanthi/dataset.csv', header=0)\n",
    "    # print(data['target'].value_counts())\n",
    "\n",
    "    columns = list(data.columns)\n",
    "    columns = columns[:len(columns) - 1]\n",
    "    X = data.loc[:, columns].to_numpy()\n",
    "    y = data.target.to_numpy().ravel()\n",
    "\n",
    "    num_classes = len(np.unique(y))\n",
    "    dataset = X, y\n",
    "    \n",
    "    # attacker queries the model\n",
    "    target_model.eval()\n",
    "    \n",
    "    \n",
    "    target_correct = 0\n",
    "    idx_membership = {}\n",
    "    attack_correct = 0\n",
    "    \n",
    "    with torch.no_grad():\n",
    "        for i in range(len(X)): # for each sample in the given dataset\n",
    "            # transform to torch tensor\n",
    "            tmp_x, tmp_y = torch.from_numpy(X[i]).float(), int(y[i])\n",
    "            # query the model\n",
    "            out = target_model(tmp_x)\n",
    "            # get confidence scores\n",
    "            \n",
    "            pred = out.argmax().item() \n",
    "            if pred == tmp_y:\n",
    "                target_correct += 1\n",
    "                membership_pred = 1\n",
    "            else:\n",
    "                membership_pred = 0\n",
    "            \n",
    "            idx_membership[i] = membership_pred\n",
    "    print(\"Target Acc:\", target_correct / len(X))\n",
    "    return idx_membership "
   ]
  },
  {
   "cell_type": "code",
   "execution_count": 29,
   "id": "9f050f5e",
   "metadata": {
    "execution": {
     "iopub.execute_input": "2022-10-14T12:07:39.880390Z",
     "iopub.status.busy": "2022-10-14T12:07:39.879704Z",
     "iopub.status.idle": "2022-10-14T12:07:44.018743Z",
     "shell.execute_reply": "2022-10-14T12:07:44.017139Z"
    },
    "papermill": {
     "duration": 4.153811,
     "end_time": "2022-10-14T12:07:44.021585",
     "exception": false,
     "start_time": "2022-10-14T12:07:39.867774",
     "status": "completed"
    },
    "tags": []
   },
   "outputs": [
    {
     "name": "stdout",
     "output_type": "stream",
     "text": [
      "Target Acc: 0.9448950688811639\n",
      "Correct predictions: 5864/7767\n",
      "Accuracy: 0.7550\n",
      "TP: 5436, TN: 428, FP: 1903, FN: 0\n",
      "Attack Precision: 0.7407003678975337\n",
      "Attack Recall: 1.0\n",
      "Advantage (= tpr - fpr): 0.18361218361218357\n"
     ]
    }
   ],
   "source": [
    "predictions = correct_membership_inference(trained_model)\n",
    "get_membership_score(membership, predictions)"
   ]
  }
 ],
 "metadata": {
  "kernelspec": {
   "display_name": "Python 3",
   "language": "python",
   "name": "python3"
  },
  "language_info": {
   "codemirror_mode": {
    "name": "ipython",
    "version": 3
   },
   "file_extension": ".py",
   "mimetype": "text/x-python",
   "name": "python",
   "nbconvert_exporter": "python",
   "pygments_lexer": "ipython3",
   "version": "3.7.12"
  },
  "papermill": {
   "default_parameters": {},
   "duration": 78.654382,
   "end_time": "2022-10-14T12:07:45.056656",
   "environment_variables": {},
   "exception": null,
   "input_path": "__notebook__.ipynb",
   "output_path": "__notebook__.ipynb",
   "parameters": {},
   "start_time": "2022-10-14T12:06:26.402274",
   "version": "2.3.4"
  }
 },
 "nbformat": 4,
 "nbformat_minor": 5
}
